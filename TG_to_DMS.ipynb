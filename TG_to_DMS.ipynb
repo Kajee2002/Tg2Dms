{
  "cells": [
    {
      "cell_type": "markdown",
      "metadata": {
        "id": "view-in-github",
        "colab_type": "text"
      },
      "source": [
        "<a href=\"https://colab.research.google.com/github/Kajee2002/Tg2Dms/blob/main/TG_to_DMS.ipynb\" target=\"_parent\"><img src=\"https://colab.research.google.com/assets/colab-badge.svg\" alt=\"Open In Colab\"/></a>"
      ]
    },
    {
      "cell_type": "markdown",
      "metadata": {
        "id": "o1YHqqgw86wu"
      },
      "source": [
        "# __UoM DMS Toolkit__ 💻"
      ]
    },
    {
      "cell_type": "markdown",
      "metadata": {
        "id": "LT6Wij9ilI_P"
      },
      "source": [
        "## Introduction 📋\n",
        "UoM_DMS_Toolkit streamlines file tasks for students at UoM. Enjoy data-free downloads/uploads and multimedia processing, including Torrents, Youtube, M3U8 links. Say goodbye to bandwidth worries and focus on your education! 😁\n",
        "\n",
        "<br>\n",
        "\n",
        "### AN IDEA OF PATRIC NILACKSHAN 🧑‍💻 (pnilackshan@gmail.com)\n"
      ]
    },
    {
      "cell_type": "markdown",
      "metadata": {
        "id": "b3_kEdQB9o5I"
      },
      "source": [
        "## Prerequisites 🎯"
      ]
    },
    {
      "cell_type": "code",
      "execution_count": null,
      "metadata": {
        "colab": {
          "base_uri": "https://localhost:8080/"
        },
        "id": "cNU9Os7P93Ss",
        "outputId": "6f61b35c-93c7-4a8c-dbcf-fb166d7bb4c6"
      },
      "outputs": [
        {
          "output_type": "stream",
          "name": "stdout",
          "text": [
            "Requirement already satisfied: requests in /usr/local/lib/python3.10/dist-packages (2.32.3)\n",
            "Collecting pytube\n",
            "  Downloading pytube-15.0.0-py3-none-any.whl.metadata (5.0 kB)\n",
            "Collecting ffmpeg-python\n",
            "  Downloading ffmpeg_python-0.2.0-py3-none-any.whl.metadata (1.7 kB)\n",
            "Collecting libtorrent\n",
            "  Downloading libtorrent-2.0.9-cp310-cp310-manylinux_2_17_x86_64.manylinux2014_x86_64.whl.metadata (249 bytes)\n",
            "Requirement already satisfied: charset-normalizer<4,>=2 in /usr/local/lib/python3.10/dist-packages (from requests) (3.4.0)\n",
            "Requirement already satisfied: idna<4,>=2.5 in /usr/local/lib/python3.10/dist-packages (from requests) (3.10)\n",
            "Requirement already satisfied: urllib3<3,>=1.21.1 in /usr/local/lib/python3.10/dist-packages (from requests) (2.2.3)\n",
            "Requirement already satisfied: certifi>=2017.4.17 in /usr/local/lib/python3.10/dist-packages (from requests) (2024.8.30)\n",
            "Requirement already satisfied: future in /usr/local/lib/python3.10/dist-packages (from ffmpeg-python) (1.0.0)\n",
            "Downloading pytube-15.0.0-py3-none-any.whl (57 kB)\n",
            "\u001b[2K   \u001b[90m━━━━━━━━━━━━━━━━━━━━━━━━━━━━━━━━━━━━━━━━\u001b[0m \u001b[32m57.6/57.6 kB\u001b[0m \u001b[31m2.1 MB/s\u001b[0m eta \u001b[36m0:00:00\u001b[0m\n",
            "\u001b[?25hDownloading ffmpeg_python-0.2.0-py3-none-any.whl (25 kB)\n",
            "Downloading libtorrent-2.0.9-cp310-cp310-manylinux_2_17_x86_64.manylinux2014_x86_64.whl (8.5 MB)\n",
            "\u001b[2K   \u001b[90m━━━━━━━━━━━━━━━━━━━━━━━━━━━━━━━━━━━━━━━━\u001b[0m \u001b[32m8.5/8.5 MB\u001b[0m \u001b[31m58.2 MB/s\u001b[0m eta \u001b[36m0:00:00\u001b[0m\n",
            "\u001b[?25hInstalling collected packages: libtorrent, pytube, ffmpeg-python\n",
            "Successfully installed ffmpeg-python-0.2.0 libtorrent-2.0.9 pytube-15.0.0\n",
            "Collecting pyrogram\n",
            "  Downloading Pyrogram-2.0.106-py3-none-any.whl.metadata (4.4 kB)\n",
            "Collecting pyaes==1.6.1 (from pyrogram)\n",
            "  Downloading pyaes-1.6.1.tar.gz (28 kB)\n",
            "  Preparing metadata (setup.py) ... \u001b[?25l\u001b[?25hdone\n",
            "Requirement already satisfied: pysocks==1.7.1 in /usr/local/lib/python3.10/dist-packages (from pyrogram) (1.7.1)\n",
            "Downloading Pyrogram-2.0.106-py3-none-any.whl (3.6 MB)\n",
            "\u001b[2K   \u001b[90m━━━━━━━━━━━━━━━━━━━━━━━━━━━━━━━━━━━━━━━━\u001b[0m \u001b[32m3.6/3.6 MB\u001b[0m \u001b[31m30.7 MB/s\u001b[0m eta \u001b[36m0:00:00\u001b[0m\n",
            "\u001b[?25hBuilding wheels for collected packages: pyaes\n",
            "  Building wheel for pyaes (setup.py) ... \u001b[?25l\u001b[?25hdone\n",
            "  Created wheel for pyaes: filename=pyaes-1.6.1-py3-none-any.whl size=26346 sha256=5152b09c7ea8fcc24834868a49e57396c6d7ccf2ec83119b300cd53b6a644545\n",
            "  Stored in directory: /root/.cache/pip/wheels/d6/84/5f/ea6aef85a93c7e1922486369874f4740a5642d261e09c59140\n",
            "Successfully built pyaes\n",
            "Installing collected packages: pyaes, pyrogram\n",
            "Successfully installed pyaes-1.6.1 pyrogram-2.0.106\n"
          ]
        }
      ],
      "source": [
        "!pip install requests pytube ffmpeg-python libtorrent\n",
        "!pip install pyrogram"
      ]
    },
    {
      "cell_type": "markdown",
      "metadata": {
        "id": "c4JaK_m69jze"
      },
      "source": [
        "## Login to DMS 🏫"
      ]
    },
    {
      "cell_type": "code",
      "execution_count": null,
      "metadata": {
        "id": "TfWtGXmqbggL"
      },
      "outputs": [],
      "source": [
        "#@markdown <br><center><img src='https://dms.uom.lk/apps/theming/image/logo' height=\"200\" alt=\"UoM-logo\"/></center>\n",
        "#@markdown <center><h3>University of Moratuwa DMS Credentials</h3></center><br>\n",
        "\n",
        "\n",
        "UserName = \"kajatheepanp.23\" # @param {type:\"string\"}\n",
        "Password = \"Thamizh311@\" # @param {type:\"string\"}\n",
        "LoginDetail = f'\"{UserName}:{Password}\"'\n",
        "\n",
        "\n",
        "# APIs\n",
        "Header = '\"OCS-APIRequest: true\"'\n",
        "UploadPoint = '\"https://dms.uom.lk/remote.php/webdav/\"'\n",
        "SharePoint = '\"https://dms.uom.lk/ocs/v2.php/apps/files_sharing/api/v1/shares?format=json\"'"
      ]
    },
    {
      "cell_type": "markdown",
      "metadata": {
        "id": "izV5KWqa-gxk"
      },
      "source": [
        "## Input the Download Link of File 🔗"
      ]
    },
    {
      "cell_type": "code",
      "execution_count": null,
      "metadata": {
        "id": "mCES0DpI7JZ3"
      },
      "outputs": [],
      "source": [
        "#@markdown <br><center><img src='https://dms.uom.lk/svg/core/actions/public?color=000' height=\"140\" alt=\"Link-logo\"/></center>\n",
        "#@markdown <br><center><h3>Enter Download Link here...</h3></center><br>\n",
        "\n",
        "Download_Link = \"magnet:?xt=urn:btih:e89af859ea79ce7109474c954f1ded3f73af5171&dn=www.1TamilMV.su%20-%20Pushpa%202%20The%20Rule%20%282024%29%20Tamil%20PreDVD%20-%20720p%20-%20x264%20-%20HQ%20Clean%20Aud%20-%201GB.mkv&tr=udp%3A%2F%2Ftracker.opentrackr.org%3A1337%2Fannounce&tr=udp%3A%2F%2Fopen.tracker.cl%3A1337%2Fannounce&tr=udp%3A%2F%2Fopen.stealth.si%3A80%2Fannounce&tr=udp%3A%2F%2Ftracker.torrent.eu.org%3A451%2Fannounce&tr=udp%3A%2F%2Ftracker.ololosh.space%3A6969%2Fannounce&tr=udp%3A%2F%2Ftracker.dump.cl%3A6969%2Fannounce&tr=udp%3A%2F%2Ftracker.bittor.pw%3A1337%2Fannounce&tr=udp%3A%2F%2Ftracker-udp.gbitt.info%3A80%2Fannounce&tr=udp%3A%2F%2Fopentracker.io%3A6969%2Fannounce&tr=udp%3A%2F%2Fopen.free-tracker.ga%3A6969%2Fannounce&tr=udp%3A%2F%2Fns-1.x-fins.com%3A6969%2Fannounce&tr=udp%3A%2F%2Fisk.richardsw.club%3A6969%2Fannounce&tr=udp%3A%2F%2Fexplodie.org%3A6969%2Fannounce&tr=udp%3A%2F%2Fexodus.desync.com%3A6969%2Fannounce&tr=http%3A%2F%2Fwww.torrentsnipe.info%3A2701%2Fannounce&tr=http%3A%2F%2Fwww.genesis-sp.org%3A2710%2Fannounce&tr=http%3A%2F%2Ftracker810.xyz%3A11450%2Fannounce&tr=http%3A%2F%2Ftracker.xiaoduola.xyz%3A6969%2Fannounce&tr=http%3A%2F%2Ftracker.vanitycore.co%3A6969%2Fannounce&tr=http%3A%2F%2Ftracker.sbsub.com%3A2710%2Fannounce\" # @param {type:\"string\"}\n",
        "FileName = \"set3.zip\" # @param {type:\"string\"}"
      ]
    },
    {
      "cell_type": "markdown",
      "metadata": {
        "id": "bS0ECfUb-W6J"
      },
      "source": [
        "## Download File from URL 📥"
      ]
    },
    {
      "cell_type": "code",
      "execution_count": null,
      "metadata": {
        "colab": {
          "base_uri": "https://localhost:8080/"
        },
        "id": "LD_OSIg6JyBF",
        "outputId": "307d5acb-14ec-4af4-97d2-e06800238f12"
      },
      "outputs": [
        {
          "name": "stdout",
          "output_type": "stream",
          "text": [
            "File downloaded successfully and saved as /content/set2.zip\n"
          ]
        }
      ],
      "source": [
        "import os\n",
        "import sys\n",
        "import time\n",
        "import warnings\n",
        "import requests\n",
        "import subprocess\n",
        "import libtorrent as lt\n",
        "from pytube import YouTube\n",
        "\n",
        "\n",
        "TorrentName = \"\"\n",
        "downloaded_Torrent_Files = []\n",
        "\n",
        "\n",
        "def download_torrent(Download_Link):\n",
        "    global FileName, TorrentName, downloaded_Torrent_Files\n",
        "    with warnings.catch_warnings():\n",
        "        warnings.simplefilter(\"ignore\", category=DeprecationWarning)\n",
        "        ses = lt.session()\n",
        "        params = {\n",
        "            'save_path': './',\n",
        "            'storage_mode': lt.storage_mode_t(2),\n",
        "        }\n",
        "        handle = lt.add_magnet_uri(ses, Download_Link, params)\n",
        "        sys.stdout.write('Downloading metadata...\\n')\n",
        "        sys.stdout.flush()\n",
        "        while not handle.has_metadata():\n",
        "            time.sleep(1)\n",
        "        TorrentName = handle.get_torrent_info().name()\n",
        "        sys.stdout.write('Metadata downloaded, starting torrent download...\\n')\n",
        "        sys.stdout.write('Press Ctrl+C to stop\\n')\n",
        "        sys.stdout.flush()\n",
        "        while handle.status().state != lt.torrent_status.seeding:\n",
        "            s = handle.status()\n",
        "            state_str = ['queued', 'checking', 'downloading metadata', 'downloading', 'finished', 'seeding', 'allocating', 'checking fastresume']\n",
        "            progress = '%.2f%% complete (down: %.1f kB/s up: %.1f kB/s peers: %d) %s' % (\n",
        "                s.progress * 100, s.download_rate / 1000, s.upload_rate / 1000, s.num_peers, state_str[s.state])\n",
        "            sys.stdout.write('\\r' + progress)\n",
        "            sys.stdout.flush()\n",
        "            time.sleep(1)\n",
        "        downloaded_Torrent_Files = [file.path for file in handle.get_torrent_info().files()]\n",
        "        sys.stdout.write('\\nDownload complete!\\n')\n",
        "        sys.stdout.flush()\n",
        "        print(\"\\nDownloaded files:\")\n",
        "        for i, name in enumerate(downloaded_Torrent_Files):\n",
        "          print(f\"{i+1}: {name}\")\n",
        "        while True:\n",
        "          try:\n",
        "              file_selected = int(input(\"\\n\\nEnter 𝟎 to add all the downloaded files to a ZIP & Upload\\n\\n𝐎𝐑\\n\\nEnter the number corresponding to the file you want to upload to DMS: \"))\n",
        "              # ZIP all files\n",
        "              if (file_selected == 0):\n",
        "                print(\"\\nZipping... Please wait...\")\n",
        "                command = ['zip','-r',f'{FileName}.zip',TorrentName]\n",
        "                subprocess.run(command, check=True)\n",
        "                FileName = f'{FileName}.zip'\n",
        "                print(f'\\n{FileName} selected for Upload')\n",
        "                break\n",
        "              # Select an individual file\n",
        "              elif ((file_selected>0) and (file_selected<=len(downloaded_Torrent_Files))):\n",
        "                file_selected = str(downloaded_Torrent_Files[file_selected-1])\n",
        "                FileName = file_selected\n",
        "                print(f'\\n{FileName} selected for Upload')\n",
        "                break\n",
        "              else:\n",
        "                  print(\"Please enter a valid number corresponding to the file you want to upload\")\n",
        "          except ValueError:\n",
        "              print(\"Please enter a valid number corresponding to the file you want to upload\")\n",
        "\n",
        "\n",
        "def download_regular_file(Download_Link):\n",
        "    cwd = os.getcwd()\n",
        "    full_output_path = os.path.join(cwd, FileName)\n",
        "    response = requests.get(Download_Link, stream=True)\n",
        "    if response.status_code == 200:\n",
        "        with open(full_output_path, 'wb') as f:\n",
        "            for chunk in response.iter_content(chunk_size=51200):\n",
        "                if chunk:\n",
        "                    f.write(chunk)\n",
        "        print(f\"File downloaded successfully and saved as {full_output_path}\")\n",
        "    else:\n",
        "        print(f\"Failed to download file from {Download_Link}. HTTP Status code: {response.status_code}\")\n",
        "\n",
        "\n",
        "def download_youtube_video(Download_Link):\n",
        "    yt = YouTube(Download_Link)\n",
        "    available_streams = yt.streams.filter(progressive=True, file_extension='mp4').order_by('resolution').desc()\n",
        "    print(\"Available formats:\")\n",
        "    for i, stream in enumerate(available_streams):\n",
        "        print(f\"{i+1}: {stream.resolution} - {stream.fps}fps - {stream.mime_type}\")\n",
        "    selection = int(input(\"Enter the number corresponding to the desired format: \"))\n",
        "    selected_stream = available_streams[selection-1]\n",
        "    print(f\"Downloading {selected_stream.resolution} video...\")\n",
        "    selected_stream.download(filename=FileName)\n",
        "    print(\"Download completed.\")\n",
        "\n",
        "\n",
        "def download_m3u8(Download_Link):\n",
        "    command = [\n",
        "        'ffmpeg',\n",
        "        '-threads', '8',  # Use 8 threads\n",
        "        '-i', Download_Link,   # Input file (m3u8 URL)\n",
        "        '-c', 'copy',     # Copy the codec (fastest method)\n",
        "        FileName          # Output file path\n",
        "    ]\n",
        "    subprocess.run(command, check=True)\n",
        "\n",
        "\n",
        "def main():\n",
        "    if Download_Link.startswith('magnet:?xt=urn:btih:'):\n",
        "        download_torrent(Download_Link)\n",
        "    elif Download_Link.endswith('.m3u8'):\n",
        "        download_m3u8(Download_Link)\n",
        "    elif (('youtube.com' in Download_Link) or ('youtu.be' in Download_Link)):\n",
        "        download_youtube_video(Download_Link)\n",
        "    else:\n",
        "        download_regular_file(Download_Link)\n",
        "\n",
        "\n",
        "if __name__ == \"__main__\":\n",
        "    main()"
      ]
    },
    {
      "cell_type": "code",
      "execution_count": null,
      "metadata": {
        "id": "b-u_kpD7uAIB"
      },
      "outputs": [],
      "source": [
        "import pyrogram\n"
      ]
    },
    {
      "cell_type": "markdown",
      "metadata": {
        "id": "wCIySO4nCMPU"
      },
      "source": [
        "## Upload File to DMS 📤"
      ]
    },
    {
      "cell_type": "code",
      "execution_count": null,
      "metadata": {
        "colab": {
          "background_save": true,
          "base_uri": "https://localhost:8080/"
        },
        "id": "9DGExC3E8kPf",
        "outputId": "272b24c9-c13e-41a6-83b6-3e5525ee7b69"
      },
      "outputs": [
        {
          "name": "stdout",
          "output_type": "stream",
          "text": [
            "Upload Progress: [██████████████████████████████████████████████████] 100.0%\n",
            "File uploaded to DMS successfully.\n"
          ]
        }
      ],
      "source": [
        "# @title Default title text\n",
        "import re\n",
        "import sys\n",
        "import subprocess\n",
        "\n",
        "def execute_curl_with_progress(curl_command):\n",
        "    # Start the curl command in a subprocess with stdout redirected\n",
        "    process = subprocess.Popen(curl_command, shell=True, stdout=subprocess.PIPE, stderr=subprocess.PIPE, universal_newlines=True)\n",
        "    try:\n",
        "        # Initialize variables to store the previous progress\n",
        "        prev_progress = 0\n",
        "        # Loop through the output of the command\n",
        "        for line in process.stderr:\n",
        "            # Extract progress information using regex\n",
        "            match = re.search(r'(\\d+(\\.\\d+)?)%', line)\n",
        "            if match:\n",
        "                progress = float(match.group(1))\n",
        "                # Calculate the number of characters to represent the progress bar\n",
        "                bar_length = 50\n",
        "                filled_length = int(bar_length * progress / 100)\n",
        "                filled_bar = '█' * filled_length  # Use '█' for the filled part\n",
        "                empty_bar = '░' * (bar_length - filled_length)  # Use '░' for the empty part\n",
        "                # Display progress information\n",
        "                sys.stdout.write(f\"\\rUpload Progress: [{filled_bar}{empty_bar}] {progress:.1f}%\")\n",
        "                sys.stdout.flush()\n",
        "                # Update previous progress\n",
        "                prev_progress = progress\n",
        "            else:\n",
        "                # Skip lines that don't contain progress updates\n",
        "                continue\n",
        "        # Wait for the process to finish and get the return code\n",
        "        return_code = process.wait()\n",
        "        # Check if the command was successful\n",
        "        if return_code == 0:\n",
        "            print(\"\\nFile uploaded to DMS successfully.\")\n",
        "        else:\n",
        "            print(\"\\nError occurred during file upload.\")\n",
        "    except Exception as e:\n",
        "        print(\"\\nAn error occurred:\", e)\n",
        "\n",
        "\n",
        "# Construct the curl command with --progress-bar option\n",
        "curl_command = f'curl -u {LoginDetail} --progress-bar -T \"{FileName}\" \"{UploadPoint}\"'\n",
        "\n",
        "\n",
        "# Execute the curl command and show progress\n",
        "execute_curl_with_progress(curl_command)"
      ]
    },
    {
      "cell_type": "markdown",
      "metadata": {
        "id": "Ew2ZwamSOfQr"
      },
      "source": [
        "## Share File from the DMS 🔁"
      ]
    },
    {
      "cell_type": "code",
      "execution_count": null,
      "metadata": {
        "colab": {
          "base_uri": "https://localhost:8080/"
        },
        "id": "0N78Hk9rVYqU",
        "outputId": "9359bdb4-9245-4ff7-d6af-99757fe27fff"
      },
      "outputs": [
        {
          "name": "stdout",
          "output_type": "stream",
          "text": [
            "Share ID : 289619\n",
            "File Path : /andhagan.mkv\n",
            "DMS Link : https://dms.uom.lk/s/i9YPwRotaPT9ZMw\n",
            "\n"
          ]
        }
      ],
      "source": [
        "import json\n",
        "permissionBody = str('\"'+'path='+FileName+'&shareType=3&permissions=1'+'\"')\n",
        "json_response = !curl -u {LoginDetail} -X POST -d {permissionBody} {SharePoint} -H {Header}\n",
        "json_string = ''.join(json_response)\n",
        "share = json.loads(json_string)['ocs']['data']\n",
        "try:\n",
        "  print(f\"Share ID : {share['id']}\\nFile Path : {share['path']}\\nDMS Link : {share['url']}\\n\")\n",
        "except:\n",
        "  print(\"Error during Sharing\")"
      ]
    },
    {
      "cell_type": "markdown",
      "metadata": {
        "id": "Jv3aPgm_isgw"
      },
      "source": [
        "## Get details of all shares in DMS Account 📢"
      ]
    },
    {
      "cell_type": "code",
      "execution_count": null,
      "metadata": {
        "colab": {
          "base_uri": "https://localhost:8080/"
        },
        "id": "j7IZXH78503t",
        "outputId": "931020bc-1701-4ac7-d853-0671f5ea5698"
      },
      "outputs": [
        {
          "name": "stdout",
          "output_type": "stream",
          "text": [
            "Share ID : 288442\n",
            "File Path : /2024-11-17 21-06-20.mkv\n",
            "DMS Link : https://dms.uom.lk/s/oESKrgtKbjSHSPq\n",
            "\n",
            "Share ID : 288726\n",
            "File Path : /kuppy\n",
            "DMS Link : https://dms.uom.lk/s/w8fM47aBaaJgjdC\n",
            "\n",
            "Share ID : 289619\n",
            "File Path : /andhagan.mkv\n",
            "DMS Link : https://dms.uom.lk/s/i9YPwRotaPT9ZMw\n",
            "\n"
          ]
        }
      ],
      "source": [
        "import json\n",
        "json_response = !curl -u {LoginDetail} -X GET {SharePoint} -H {Header}\n",
        "\n",
        "# Convert the SList to a string and then parse it as JSON\n",
        "json_string = ''.join(json_response)\n",
        "json_data = json.loads(json_string)[\"ocs\"][\"data\"]\n",
        "\n",
        "# Print details of shares\n",
        "if (len(json_data) > 0):\n",
        "  for share in json_data:\n",
        "    print(f\"Share ID : {share['id']}\\nFile Path : {share['path']}\\nDMS Link : {share['url']}\\n\")\n",
        "else:\n",
        "  print(\"No shares found for this DMS Account.\")"
      ]
    },
    {
      "cell_type": "markdown",
      "metadata": {
        "id": "tyIVWa-lj2Rk"
      },
      "source": [
        "## Delete a share with its Share_ID 🗑️"
      ]
    },
    {
      "cell_type": "code",
      "execution_count": null,
      "metadata": {
        "id": "wJS2vOcCivAv"
      },
      "outputs": [],
      "source": [
        "Share_ID = 263498 # @param {type:\"integer\"}\n",
        "deletePoint = str(f'{SharePoint[:-13]}/{Share_ID}?format=json\"')\n",
        "json_response = !curl -u {LoginDetail} -X DELETE {deletePoint} -H {Header}\n",
        "json_string = ''.join(json_response)\n",
        "try:\n",
        "  statuscode = json.loads(json_string)[\"ocs\"][\"meta\"][\"statuscode\"]\n",
        "  if (statuscode == 200):\n",
        "    print(f\"Share with Share ID: {Share_ID} deleted successfully.\")\n",
        "  else:\n",
        "    print(\"Error during deletion\")\n",
        "except:\n",
        "  print(\"Error during deletion\")"
      ]
    },
    {
      "cell_type": "markdown",
      "metadata": {
        "id": "JKwy6pe-NvpP"
      },
      "source": [
        "## Mapping DMS WebDAV Share (For Windows OS) 🪟"
      ]
    },
    {
      "cell_type": "markdown",
      "metadata": {
        "id": "PUA_4BgBkzGh"
      },
      "source": [
        "### Run this command in a new Command Prompt in Windows to see DMS as a Local Disk in My Computer\n",
        "#### Replace 'userName' and 'userPassword' with actual values\n",
        "`\n",
        "net use Z: https://dms.uom.lk/remote.php/webdav/ /user:<userName> <userPassword>\n",
        "`\n",
        "\n",
        "<br>"
      ]
    },
    {
      "cell_type": "markdown",
      "metadata": {
        "id": "78JZFetNmIRL"
      },
      "source": [
        "## Conclusion 😎"
      ]
    },
    {
      "cell_type": "markdown",
      "metadata": {
        "id": "76RewtXxmeHx"
      },
      "source": [
        "### These CLI codes provide a convenient way to interact with the DMS for educational purposes, enabling data-free downloads, uploads, and sharing of files and folders. 🧑‍💻\n",
        "\n",
        "<br>\n",
        "\n",
        "### © PATRIC NILACKSHAN (pnilackshan@gmail.com)"
      ]
    }
  ],
  "metadata": {
    "colab": {
      "provenance": [],
      "include_colab_link": true
    },
    "kernelspec": {
      "display_name": "Python 3",
      "name": "python3"
    },
    "language_info": {
      "name": "python"
    }
  },
  "nbformat": 4,
  "nbformat_minor": 0
}